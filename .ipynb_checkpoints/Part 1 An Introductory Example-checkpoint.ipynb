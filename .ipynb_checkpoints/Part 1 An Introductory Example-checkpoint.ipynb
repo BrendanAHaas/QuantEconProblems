{
 "cells": [
  {
   "cell_type": "code",
   "execution_count": 16,
   "metadata": {
    "collapsed": false
   },
   "outputs": [
    {
     "name": "stdout",
     "output_type": "stream",
     "text": [
      "3628800\n"
     ]
    }
   ],
   "source": [
    "#Exercise 1\n",
    "def factorial(n):\n",
    "    factstart = 1\n",
    "    for i in range(n+1):\n",
    "        if i > 0:\n",
    "            factstart = factstart * i\n",
    "    return factstart\n",
    "factten = factorial(10)\n",
    "print(factten)"
   ]
  },
  {
   "cell_type": "code",
   "execution_count": 23,
   "metadata": {
    "collapsed": false
   },
   "outputs": [
    {
     "name": "stdout",
     "output_type": "stream",
     "text": [
      "63\n"
     ]
    }
   ],
   "source": [
    "#Exercise 2\n",
    "from numpy.random import uniform\n",
    "def binomial_rv(n,p): #n is number of draws, p is probability\n",
    "    successes = 0\n",
    "    for i in range(n):\n",
    "        i = uniform()\n",
    "        if i < p:\n",
    "            successes = successes + 1\n",
    "    return successes\n",
    "print(binomial_rv(100,.6))"
   ]
  },
  {
   "cell_type": "code",
   "execution_count": 29,
   "metadata": {
    "collapsed": false
   },
   "outputs": [
    {
     "data": {
      "text/plain": [
       "3.14352"
      ]
     },
     "execution_count": 29,
     "metadata": {},
     "output_type": "execute_result"
    }
   ],
   "source": [
    "#Exercise 3\n",
    "import numpy as np\n",
    "def pi_test(n): #n = number of points tested\n",
    "    successes = 0\n",
    "    for i in range(n):\n",
    "        x = np.random.uniform()\n",
    "        y = np.random.uniform()\n",
    "        if np.sqrt((x-.5)**2 + (y-.5)**2) < .5:\n",
    "            successes += 1\n",
    "    pi = (successes/n)*4\n",
    "    return pi\n",
    "pi_test(100000)"
   ]
  },
  {
   "cell_type": "code",
   "execution_count": 35,
   "metadata": {
    "collapsed": false
   },
   "outputs": [
    {
     "name": "stdout",
     "output_type": "stream",
     "text": [
      "You won!\n"
     ]
    }
   ],
   "source": [
    "#Exercise 4\n",
    "import numpy as np\n",
    "def coinflip(n): #n = number of coin flips\n",
    "    headscount = 0\n",
    "    winner = 0\n",
    "    for i in range (n):\n",
    "        x = np.random.uniform()\n",
    "        if x < 0.5: #less than 0.5 = heads\n",
    "            headscount = headscount + 1\n",
    "        else:\n",
    "            headscount = 0\n",
    "        if headscount == 3:\n",
    "            winner = 1\n",
    "            print(\"You won!\")\n",
    "    if winner == 0:\n",
    "        print(\"You didn't win\")\n",
    "coinflip(10)"
   ]
  },
  {
   "cell_type": "code",
   "execution_count": 8,
   "metadata": {
    "collapsed": false
   },
   "outputs": [],
   "source": [
    "#Exercise 5\n",
    "import numpy as np\n",
    "import matplotlib.pyplot as plt\n",
    "\n",
    "def corrtimeplot(t): #t is number of iterations\n",
    "    a = 0.9\n",
    "    firstvalue = np.random.randn()\n",
    "    datalist = [firstvalue]\n",
    "    for i in range (t-1):\n",
    "        if i == 0:\n",
    "            newvalue = a * firstvalue + np.random.randn()\n",
    "            datalist.append(newvalue)\n",
    "        else:\n",
    "            newvalue = a * newvalue + np.random.randn()\n",
    "            datalist.append(newvalue)\n",
    "    return datalist\n",
    "#print(corrtimeplot(10)) #For Checking results\n",
    "plt.plot(corrtimeplot(200), 'b-')\n",
    "plt.show()"
   ]
  },
  {
   "cell_type": "code",
   "execution_count": 12,
   "metadata": {
    "collapsed": false
   },
   "outputs": [],
   "source": [
    "#Exercise 6\n",
    "import numpy as np\n",
    "import matplotlib.pyplot as plt\n",
    "def corrtimeplot(t, a): #t is number of iterations, a is value of alpha\n",
    "    firstvalue = np.random.randn()\n",
    "    datalist = [firstvalue]\n",
    "    for i in range (t-1):\n",
    "        if i == 0:\n",
    "            newvalue = a * firstvalue + np.random.randn()\n",
    "            datalist.append(newvalue)\n",
    "        else:\n",
    "            newvalue = a * newvalue + np.random.randn()\n",
    "            datalist.append(newvalue)\n",
    "    return datalist\n",
    "\n",
    "avalues = [0,0.8,0.98]\n",
    "for i in avalues:\n",
    "    data = corrtimeplot(200,i)\n",
    "    plt.plot(data, label='alpha = ' + str(i))\n",
    "plt.legend()\n",
    "plt.show()"
   ]
  },
  {
   "cell_type": "code",
   "execution_count": null,
   "metadata": {
    "collapsed": true
   },
   "outputs": [],
   "source": []
  }
 ],
 "metadata": {
  "kernelspec": {
   "display_name": "Python 3",
   "language": "python",
   "name": "python3"
  },
  "language_info": {
   "codemirror_mode": {
    "name": "ipython",
    "version": 3
   },
   "file_extension": ".py",
   "mimetype": "text/x-python",
   "name": "python",
   "nbconvert_exporter": "python",
   "pygments_lexer": "ipython3",
   "version": "3.5.2"
  }
 },
 "nbformat": 4,
 "nbformat_minor": 0
}
