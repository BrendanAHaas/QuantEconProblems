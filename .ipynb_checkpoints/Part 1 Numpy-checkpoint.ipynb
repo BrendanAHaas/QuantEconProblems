{
 "cells": [
  {
   "cell_type": "code",
   "execution_count": 15,
   "metadata": {
    "collapsed": false
   },
   "outputs": [
    {
     "name": "stdout",
     "output_type": "stream",
     "text": [
      "129.0\n"
     ]
    },
    {
     "data": {
      "text/plain": [
       "'\\ndef p(x, coef):\\n    X = np.empty(len(coef))\\n    X[0] = 1\\n    X[1:] = x\\n    y = np.cumprod(X)   # y = [1, x, x**2,...]\\n    return coef @ y\\n'"
      ]
     },
     "execution_count": 15,
     "metadata": {},
     "output_type": "execute_result"
    }
   ],
   "source": [
    "#Exercise 1\n",
    "import numpy as np\n",
    "coefficients = [1,2,3,4,5]\n",
    "x = 2\n",
    "def p(v,c): #c = coefficients, v = x value\n",
    "    ar = np.array(c) #turn our coefficients into an array\n",
    "    xar = np.empty(len(c))\n",
    "    xar[:] = v #create an array of all values equal to v\n",
    "    xar[0] = 1\n",
    "    xarmult = xar.cumprod() #array of all factors from x: x^0, x^1, x^2... \n",
    "    #xartogether = xarmult * ar\n",
    "    #xarfinal = xartogether.cumsum() #put both factors together\n",
    "    #return xarfinal[-1] #grab last element in array for final value\n",
    "    return c @ xarmult #this line does what the 3 previous lines commented out together do\n",
    "print(p(x,coefficients))\n",
    "\n",
    "\"\"\"\n",
    "def p(x, coef):\n",
    "    X = np.empty(len(coef))\n",
    "    X[0] = 1\n",
    "    X[1:] = x\n",
    "    y = np.cumprod(X)   # y = [1, x, x**2,...]\n",
    "    return coef @ y\n",
    "\"\"\""
   ]
  },
  {
   "cell_type": "code",
   "execution_count": 54,
   "metadata": {
    "collapsed": false
   },
   "outputs": [
    {
     "name": "stdout",
     "output_type": "stream",
     "text": [
      "[4]\n",
      "[2]\n"
     ]
    }
   ],
   "source": [
    "#Exercise 2\n",
    "from numpy import cumsum\n",
    "from numpy.random import uniform\n",
    "\n",
    "class discreteRV:\n",
    "    \"\"\"\n",
    "    Generates an array of draws from a discrete random variable with vector of\n",
    "    probabilities given by q.\n",
    "    \"\"\"\n",
    "\n",
    "    def __init__(self, q):\n",
    "        \"\"\"\n",
    "        The argument q is a NumPy array, or array like, nonnegative and sums\n",
    "        to 1\n",
    "        \"\"\"\n",
    "        self.q = q\n",
    "        self.Q = cumsum(q)\n",
    "\n",
    "    def draw(self, k=1):\n",
    "        \"\"\"\n",
    "        Returns k draws from q. For each such draw, the value i is returned\n",
    "        with probability q[i].\n",
    "        \"\"\"\n",
    "        return self.Q.searchsorted(uniform(0, 1, size=k))\n",
    "\n",
    "list1 = [0.01,0.02,0.03,0.04,0.9]\n",
    "list2 = [0.01, 0.02, 0.97]\n",
    "\n",
    "firstrun = discreteRV(list1)\n",
    "secondrun = discreteRV(list2)\n",
    "firstrun.draw()\n",
    "print(firstrun.draw())\n",
    "print(secondrun.draw())\n",
    "#discreteRV.draw(list1)"
   ]
  },
  {
   "cell_type": "code",
   "execution_count": 48,
   "metadata": {
    "collapsed": false
   },
   "outputs": [
    {
     "name": "stdout",
     "output_type": "stream",
     "text": [
      "Brendan Haas\n",
      "Brendan Haas\n"
     ]
    }
   ],
   "source": [
    "#Example class\n",
    "class Employee:\n",
    "    def __init__(self,first,last,pay): #class takes 3 variables: first name, last name, pay\n",
    "        self.first = first\n",
    "        self.last = last\n",
    "        self.pay = pay\n",
    "        self.email = first + '.' + last + '@company.com'\n",
    "        \n",
    "    def fullname(self): #method in the class: prints the full name of the employee\n",
    "        return '{} {}'.format(self.first, self.last)\n",
    "    \n",
    "    \n",
    "#Using the class\n",
    "emp_1 = Employee('Brendan', 'Haas', 50000) #call the class, give it the required variables\n",
    "\n",
    "emp_1.fullname() #runs the fullname method for emp_1, with it's established variables\n",
    "print(Employee.fullname(emp_1)) #prints the full name\n",
    "print(emp_1.fullname()) #another way to write the above line"
   ]
  },
  {
   "cell_type": "code",
   "execution_count": 55,
   "metadata": {
    "collapsed": false
   },
   "outputs": [
    {
     "ename": "TypeError",
     "evalue": "__init__() missing 2 required positional arguments: 'z' and 'k'",
     "output_type": "error",
     "traceback": [
      "\u001b[1;31m---------------------------------------------------------------------------\u001b[0m",
      "\u001b[1;31mTypeError\u001b[0m                                 Traceback (most recent call last)",
      "\u001b[1;32m<ipython-input-55-4198763ff56c>\u001b[0m in \u001b[0;36m<module>\u001b[1;34m()\u001b[0m\n\u001b[0;32m     43\u001b[0m         \u001b[1;32mreturn\u001b[0m \u001b[0mpath\u001b[0m\u001b[1;33m\u001b[0m\u001b[0m\n\u001b[0;32m     44\u001b[0m \u001b[1;33m\u001b[0m\u001b[0m\n\u001b[1;32m---> 45\u001b[1;33m \u001b[0mfirsttry\u001b[0m \u001b[1;33m=\u001b[0m \u001b[0mSolow\u001b[0m\u001b[1;33m(\u001b[0m\u001b[1;36m1\u001b[0m\u001b[1;33m,\u001b[0m\u001b[1;36m2\u001b[0m\u001b[1;33m,\u001b[0m\u001b[1;36m3\u001b[0m\u001b[1;33m,\u001b[0m\u001b[1;36m0.5\u001b[0m\u001b[1;33m,\u001b[0m\u001b[1;33m)\u001b[0m\u001b[1;33m\u001b[0m\u001b[0m\n\u001b[0m",
      "\u001b[1;31mTypeError\u001b[0m: __init__() missing 2 required positional arguments: 'z' and 'k'"
     ]
    }
   ],
   "source": [
    "#Another example class\n",
    "from __future__ import division  # Omit for Python 3.x\n",
    "import numpy as np\n",
    "\n",
    "class Solow:\n",
    "    r\"\"\"\n",
    "    Implements the Solow growth model with update rule\n",
    "\n",
    "    .. math::\n",
    "        k_{t+1} = \\frac{s z k^{\\alpha}_t}{1 + n}  + k_t \\frac{1 - d}{1 + n}\n",
    "    \n",
    "    \"\"\"\n",
    "\n",
    "    def __init__(self, n, s, d, alpha, z, k):\n",
    "        \"\"\" \n",
    "        Solow growth model with Cobb Douglas production function.  All\n",
    "        parameters are scalars.  See http://quant-econ.net/py/python_oop.html\n",
    "        for interpretation.\n",
    "        \"\"\"\n",
    "        self.n, self.s, self.d, self.alpha, self.z = n, s, d, alpha, z\n",
    "        self.k = k\n",
    "        \n",
    "\n",
    "    def h(self):\n",
    "        \"Evaluate the h function\"\n",
    "        temp = self.s * self.z * self.k**self.alpha + self.k * (1 - self.d)\n",
    "        return temp / (1 + self.n)\n",
    "\n",
    "    def update(self):\n",
    "        \"Update the current state (i.e., the capital stock).\"\n",
    "        self.k =  self.h()\n",
    "        \n",
    "    def steady_state(self):\n",
    "         \"Compute the steady state value of capital.\"\n",
    "         return ((self.s * self.z) / (self.n + self.d))**(1 / (1 - self.alpha))\n",
    "     \n",
    "    def generate_sequence(self, t):\n",
    "        \"Generate and return a time series of length t\"\n",
    "        path = []\n",
    "        for i in range(t):\n",
    "            path.append(self.k)\n",
    "            self.update()\n",
    "        return path\n",
    "    \n",
    "firsttry = Solow(1,2,3,0.5,)"
   ]
  },
  {
   "cell_type": "code",
   "execution_count": 58,
   "metadata": {
    "collapsed": false
   },
   "outputs": [
    {
     "data": {
      "text/plain": [
       "['ArithmeticError',\n",
       " 'AssertionError',\n",
       " 'AttributeError',\n",
       " 'BaseException',\n",
       " 'BlockingIOError',\n",
       " 'BrokenPipeError',\n",
       " 'BufferError',\n",
       " 'BytesWarning',\n",
       " 'ChildProcessError',\n",
       " 'ConnectionAbortedError',\n",
       " 'ConnectionError',\n",
       " 'ConnectionRefusedError',\n",
       " 'ConnectionResetError',\n",
       " 'DeprecationWarning',\n",
       " 'EOFError',\n",
       " 'Ellipsis',\n",
       " 'EnvironmentError',\n",
       " 'Exception',\n",
       " 'False',\n",
       " 'FileExistsError',\n",
       " 'FileNotFoundError',\n",
       " 'FloatingPointError',\n",
       " 'FutureWarning',\n",
       " 'GeneratorExit',\n",
       " 'IOError',\n",
       " 'ImportError',\n",
       " 'ImportWarning',\n",
       " 'IndentationError',\n",
       " 'IndexError',\n",
       " 'InterruptedError',\n",
       " 'IsADirectoryError',\n",
       " 'KeyError',\n",
       " 'KeyboardInterrupt',\n",
       " 'LookupError',\n",
       " 'MemoryError',\n",
       " 'NameError',\n",
       " 'None',\n",
       " 'NotADirectoryError',\n",
       " 'NotImplemented',\n",
       " 'NotImplementedError',\n",
       " 'OSError',\n",
       " 'OverflowError',\n",
       " 'PendingDeprecationWarning',\n",
       " 'PermissionError',\n",
       " 'ProcessLookupError',\n",
       " 'RecursionError',\n",
       " 'ReferenceError',\n",
       " 'ResourceWarning',\n",
       " 'RuntimeError',\n",
       " 'RuntimeWarning',\n",
       " 'StopAsyncIteration',\n",
       " 'StopIteration',\n",
       " 'SyntaxError',\n",
       " 'SyntaxWarning',\n",
       " 'SystemError',\n",
       " 'SystemExit',\n",
       " 'TabError',\n",
       " 'TimeoutError',\n",
       " 'True',\n",
       " 'TypeError',\n",
       " 'UnboundLocalError',\n",
       " 'UnicodeDecodeError',\n",
       " 'UnicodeEncodeError',\n",
       " 'UnicodeError',\n",
       " 'UnicodeTranslateError',\n",
       " 'UnicodeWarning',\n",
       " 'UserWarning',\n",
       " 'ValueError',\n",
       " 'Warning',\n",
       " 'WindowsError',\n",
       " 'ZeroDivisionError',\n",
       " '__IPYTHON__',\n",
       " '__IPYTHON__active',\n",
       " '__build_class__',\n",
       " '__debug__',\n",
       " '__doc__',\n",
       " '__import__',\n",
       " '__loader__',\n",
       " '__name__',\n",
       " '__package__',\n",
       " '__spec__',\n",
       " 'abs',\n",
       " 'all',\n",
       " 'any',\n",
       " 'ascii',\n",
       " 'bin',\n",
       " 'bool',\n",
       " 'bytearray',\n",
       " 'bytes',\n",
       " 'callable',\n",
       " 'chr',\n",
       " 'classmethod',\n",
       " 'compile',\n",
       " 'complex',\n",
       " 'copyright',\n",
       " 'credits',\n",
       " 'delattr',\n",
       " 'dict',\n",
       " 'dir',\n",
       " 'divmod',\n",
       " 'dreload',\n",
       " 'enumerate',\n",
       " 'eval',\n",
       " 'exec',\n",
       " 'filter',\n",
       " 'float',\n",
       " 'format',\n",
       " 'frozenset',\n",
       " 'get_ipython',\n",
       " 'getattr',\n",
       " 'globals',\n",
       " 'hasattr',\n",
       " 'hash',\n",
       " 'help',\n",
       " 'hex',\n",
       " 'id',\n",
       " 'input',\n",
       " 'int',\n",
       " 'isinstance',\n",
       " 'issubclass',\n",
       " 'iter',\n",
       " 'len',\n",
       " 'license',\n",
       " 'list',\n",
       " 'locals',\n",
       " 'map',\n",
       " 'max',\n",
       " 'memoryview',\n",
       " 'min',\n",
       " 'next',\n",
       " 'object',\n",
       " 'oct',\n",
       " 'open',\n",
       " 'ord',\n",
       " 'pow',\n",
       " 'print',\n",
       " 'property',\n",
       " 'range',\n",
       " 'repr',\n",
       " 'reversed',\n",
       " 'round',\n",
       " 'set',\n",
       " 'setattr',\n",
       " 'slice',\n",
       " 'sorted',\n",
       " 'staticmethod',\n",
       " 'str',\n",
       " 'sum',\n",
       " 'super',\n",
       " 'tuple',\n",
       " 'type',\n",
       " 'vars',\n",
       " 'zip']"
      ]
     },
     "execution_count": 58,
     "metadata": {},
     "output_type": "execute_result"
    }
   ],
   "source": [
    "dir(__builtins__)"
   ]
  },
  {
   "cell_type": "code",
   "execution_count": null,
   "metadata": {
    "collapsed": true
   },
   "outputs": [],
   "source": []
  }
 ],
 "metadata": {
  "kernelspec": {
   "display_name": "Python 3",
   "language": "python",
   "name": "python3"
  },
  "language_info": {
   "codemirror_mode": {
    "name": "ipython",
    "version": 3
   },
   "file_extension": ".py",
   "mimetype": "text/x-python",
   "name": "python",
   "nbconvert_exporter": "python",
   "pygments_lexer": "ipython3",
   "version": "3.5.2"
  }
 },
 "nbformat": 4,
 "nbformat_minor": 0
}
