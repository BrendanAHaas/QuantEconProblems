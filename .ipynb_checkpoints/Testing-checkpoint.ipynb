{
 "cells": [
  {
   "cell_type": "code",
   "execution_count": 1,
   "metadata": {
    "collapsed": false
   },
   "outputs": [
    {
     "data": {
      "text/plain": [
       "'C:\\\\Users\\\\BrendanAlbertHaas\\\\Documents\\\\PythonScripts'"
      ]
     },
     "execution_count": 1,
     "metadata": {},
     "output_type": "execute_result"
    }
   ],
   "source": [
    "pwd"
   ]
  },
  {
   "cell_type": "code",
   "execution_count": 2,
   "metadata": {
    "collapsed": false
   },
   "outputs": [
    {
     "name": "stdout",
     "output_type": "stream",
     "text": [
      " Volume in drive C has no label.\n",
      " Volume Serial Number is C804-664F\n",
      "\n",
      " Directory of C:\\Users\\BrendanAlbertHaas\\Documents\\PythonScripts\n",
      "\n",
      "10/19/2017  03:58 PM    <DIR>          .\n",
      "10/19/2017  03:58 PM    <DIR>          ..\n",
      "10/19/2017  03:56 PM    <DIR>          .ipynb_checkpoints\n",
      "02/08/2016  06:03 PM               554 EDSPlot.py\n",
      "02/09/2016  03:42 PM             3,139 Hyperspy_EDS.py\n",
      "10/19/2017  03:23 PM            13,213 Python Cheatsheet.docx\n",
      "02/04/2016  03:34 PM             2,828 test-python-installation.py\n",
      "10/19/2017  03:58 PM               581 Untitled.ipynb\n",
      "               5 File(s)         20,315 bytes\n",
      "               3 Dir(s)  337,564,033,024 bytes free\n"
     ]
    }
   ],
   "source": [
    "ls"
   ]
  },
  {
   "cell_type": "code",
   "execution_count": null,
   "metadata": {
    "collapsed": true
   },
   "outputs": [],
   "source": [
    "# %load EDSPlot.py\n",
    "import numpy as np\n",
    "import matplotlib.pyplot as plot\n",
    "\n",
    "\n",
    "filepath=\"G:\\StardustResearch\\SEM\\Acfer3A_SEM\\Acfer3ASmallCraterEMSA\\Crater16(1)_pt1.emsa\"\n",
    "\n",
    "with open(filepath) as file:\n",
    "    data = file.read()\n",
    "\n",
    "data = data.split('\\n')\n",
    "\n",
    "x = [row.split(' ')[0] for row in data]\n",
    "y = [row.split(' ')[1] for row in data]\n",
    "\n",
    "fig = plot.figure()\n",
    "\n",
    "ax1 = fig.add_subplot(111)\n",
    "\n",
    "ax1.set_title(\"Plot title...\")    \n",
    "ax1.set_xlabel('your x label..')\n",
    "ax1.set_ylabel('your y label...')\n",
    "\n",
    "ax1.plot(x,y, c='r', label='the data')\n",
    "\n",
    "leg = ax1.legend()\n",
    "\n",
    "plot.show()"
   ]
  },
  {
   "cell_type": "code",
   "execution_count": null,
   "metadata": {
    "collapsed": true
   },
   "outputs": [],
   "source": []
  }
 ],
 "metadata": {
  "kernelspec": {
   "display_name": "Python 3",
   "language": "python",
   "name": "python3"
  },
  "language_info": {
   "codemirror_mode": {
    "name": "ipython",
    "version": 3
   },
   "file_extension": ".py",
   "mimetype": "text/x-python",
   "name": "python",
   "nbconvert_exporter": "python",
   "pygments_lexer": "ipython3",
   "version": "3.5.2"
  }
 },
 "nbformat": 4,
 "nbformat_minor": 0
}
