{
 "cells": [
  {
   "cell_type": "code",
   "execution_count": 14,
   "metadata": {
    "collapsed": false
   },
   "outputs": [
    {
     "name": "stdout",
     "output_type": "stream",
     "text": [
      "130\n"
     ]
    }
   ],
   "source": [
    "#Exercise 1 Part 1\n",
    "x_vals = (1,2,3,4,5)\n",
    "y_vals = (6,7,8,9,10)\n",
    "innerprod = 0\n",
    "\n",
    "for x, y in zip(x_vals, y_vals):\n",
    "    innerprod = innerprod + x * y\n",
    "print(innerprod)"
   ]
  },
  {
   "cell_type": "code",
   "execution_count": 16,
   "metadata": {
    "collapsed": false
   },
   "outputs": [
    {
     "data": {
      "text/plain": [
       "50"
      ]
     },
     "execution_count": 16,
     "metadata": {},
     "output_type": "execute_result"
    }
   ],
   "source": [
    "#Exercise 1 Part 2\n",
    "sum(x % 2 == 0 for x in range(100))"
   ]
  },
  {
   "cell_type": "code",
   "execution_count": 17,
   "metadata": {
    "collapsed": false
   },
   "outputs": [
    {
     "name": "stdout",
     "output_type": "stream",
     "text": [
      "2\n"
     ]
    }
   ],
   "source": [
    "#Exercise 1 Part 3\n",
    "pairs = ((2, 5), (4, 2), (9, 8), (12, 10))\n",
    "pairscounter = 0\n",
    "for group in pairs:\n",
    "    if group[0] % 2 == 0 and group[1] % 2 == 0:\n",
    "        pairscounter += 1\n",
    "print(pairscounter)\n",
    "        "
   ]
  },
  {
   "cell_type": "code",
   "execution_count": 39,
   "metadata": {
    "collapsed": false
   },
   "outputs": [
    {
     "name": "stdout",
     "output_type": "stream",
     "text": [
      "6\n"
     ]
    }
   ],
   "source": [
    "#Exercise 2\n",
    "coefficients = [1,2,3,4,5]\n",
    "def p(x, coeff):\n",
    "    finalvalue = 0\n",
    "    for index, value in enumerate(coefficients):\n",
    "        currentvalue = (x**(index))*value\n",
    "        finalvalue = finalvalue + currentvalue\n",
    "    return finalvalue\n",
    "print(p(1,coefficients))\n",
    "\n",
    "#coefficients = [1,2,3]\n",
    "#def p(x, coeff):\n",
    "#    return sum(a * x**b for b, a in enumerate(coeff)\n",
    "#p(1,coefficients)\n",
    "#This is the actual answer, though doesn't work for me for some reason (enumerate is weird?)"
   ]
  },
  {
   "cell_type": "code",
   "execution_count": 47,
   "metadata": {
    "collapsed": false
   },
   "outputs": [
    {
     "name": "stdout",
     "output_type": "stream",
     "text": [
      "3\n"
     ]
    }
   ],
   "source": [
    "#Exercise 3\n",
    "ExampleString = \"Hey how are You doing Steve?\"\n",
    "def capitals(x):\n",
    "    numberofcaps = 0\n",
    "    for i in range(len(x)):\n",
    "        if x[i] == x[i].upper() and x[i].isalpha():\n",
    "            numberofcaps = numberofcaps + 1\n",
    "    return numberofcaps\n",
    "print(capitals(ExampleString))"
   ]
  },
  {
   "cell_type": "code",
   "execution_count": 50,
   "metadata": {
    "collapsed": false
   },
   "outputs": [
    {
     "name": "stdout",
     "output_type": "stream",
     "text": [
      "It's missing from b\n"
     ]
    }
   ],
   "source": [
    "#Exercise 4\n",
    "tuple_a = (1,2,3,4,5,6,7,8,9,10)\n",
    "tuple_b = (1,2,3,4,5,6,7,8,9,11,12,13,14,15)\n",
    "def samesies(x,y):\n",
    "    for i in range(len(tuple_a)):\n",
    "        foundit = 0\n",
    "        for h in range(len(tuple_b)):\n",
    "            if tuple_a[i] == tuple_b[h]:\n",
    "                foundit = 1\n",
    "            if foundit == 0 and h == len(tuple_b)-1:\n",
    "                return \"It's missing from b\"\n",
    "    return \"It's there\"\n",
    "print(samesies(tuple_a,tuple_b))"
   ]
  },
  {
   "cell_type": "code",
   "execution_count": null,
   "metadata": {
    "collapsed": true
   },
   "outputs": [],
   "source": [
    "#Exercise 5\n",
    "def linapprox(f,a,b,n,x):\n",
    "    intervallength = b - a\n",
    "    lengthofsteps = (intervallength)/(n-1) #n-1 total subintervals\n",
    "    #First step\n",
    "    u = a\n",
    "    v = a + lengthofsteps\n",
    "    while u <= x:\n",
    "        u = v\n",
    "        v = v + lengthofsteps\n",
    "        \n",
    "    return value = f(a) + (f(b)-f(a))*(x - a)/(b-a)\n",
    "        \n",
    "\"\"\"\n",
    "    def linapprox(f, a, b, n, x):\n",
    "        length_of_interval = b - a\n",
    "        num_subintervals = n - 1\n",
    "        step = length_of_interval / num_subintervals\n",
    "            # === find first grid point larger than x === #\n",
    "        point = a\n",
    "        while point <= x:\n",
    "            point += step\n",
    "        u, v = point - step, point\n",
    "\n",
    "        return f(u) + (x - u) * (f(v) - f(u)) / (v - u)\n",
    "\n",
    "\"\"\"\n",
    "        "
   ]
  }
 ],
 "metadata": {
  "kernelspec": {
   "display_name": "Python 3",
   "language": "python",
   "name": "python3"
  },
  "language_info": {
   "codemirror_mode": {
    "name": "ipython",
    "version": 3
   },
   "file_extension": ".py",
   "mimetype": "text/x-python",
   "name": "python",
   "nbconvert_exporter": "python",
   "pygments_lexer": "ipython3",
   "version": "3.5.2"
  }
 },
 "nbformat": 4,
 "nbformat_minor": 0
}
