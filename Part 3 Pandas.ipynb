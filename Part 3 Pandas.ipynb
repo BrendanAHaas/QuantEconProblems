{
 "cells": [
  {
   "cell_type": "code",
   "execution_count": 10,
   "metadata": {
    "collapsed": false
   },
   "outputs": [
    {
     "name": "stdout",
     "output_type": "stream",
     "text": [
      "            VALUE\n",
      "DATE             \n",
      "1948-01-01    3.4\n",
      "1948-02-01    3.8\n",
      "1948-03-01    4.0\n",
      "1948-04-01    3.9\n",
      "1948-05-01    3.5\n"
     ]
    }
   ],
   "source": [
    "#Practice with Pandas and Dataframes\n",
    "import numpy as np\n",
    "import pandas as pd\n",
    "import requests\n",
    "import matplotlib.pyplot as plt\n",
    "\n",
    "url = 'http://research.stlouisfed.org/fred2/series/UNRATE/downloaddata/UNRATE.csv'\n",
    "data = pd.read_csv(url, index_col=0, parse_dates=True)\n",
    "\n",
    "#type(data)\n",
    "#print(data.head())  #shows the first few rows/columns of the dataframe\n",
    "\n",
    "#pd.set_option('precision', 1)\n",
    "#data.describe()   #Shows basic info about the dataframe (mean, median, std dev, etc.)\n",
    "\n",
    "data['2006':'2012'].plot()\n",
    "plt.show()"
   ]
  },
  {
   "cell_type": "code",
   "execution_count": 57,
   "metadata": {
    "collapsed": false
   },
   "outputs": [],
   "source": [
    "#Exercise 1\n",
    "import numpy as np\n",
    "import pandas as pd\n",
    "import requests\n",
    "import matplotlib.pyplot as plt\n",
    "\n",
    "#data = pd.read_csv('ticker_data.csv', index_col=0, parse_dates = True)\n",
    "data = pd.read_csv('QEDataFiles/ticker_data.csv')\n",
    "#print(data.head())\n",
    "\n",
    "#Alternate method of getting data and using dates as the index column\n",
    "#ticker = pd.read_csv('https://github.com/QuantEcon/QuantEcon.lectures.code/raw/master/pandas/data/ticker_data.csv')\n",
    "#ticker.set_index('Date', inplace=True) \n",
    "\n",
    "ticker_list = {'INTC': 'Intel',  #list of companies we care about\n",
    "               'MSFT': 'Microsoft',\n",
    "               'IBM': 'IBM',\n",
    "               'BHP': 'BHP',\n",
    "               'TM': 'Toyota',\n",
    "               'AAPL': 'Apple',\n",
    "               'AMZN': 'Amazon',\n",
    "               'BA': 'Boeing',\n",
    "               'QCOM': 'Qualcomm',\n",
    "               'KO': 'Coca-Cola',\n",
    "               'GOOG': 'Google',\n",
    "               'SNE': 'Sony',\n",
    "               'PTR': 'PetroChina'}\n",
    "\n",
    "price_change = pd.Series()\n",
    "\n",
    "#print(data.index[-1])  #Practice with indexing\n",
    "#print(data.index[0])\n",
    "#print(data.loc[data.index[0:5], ['INTC']])\n",
    "#print(data.loc[data.index[0], ['INTC']])\n",
    "\n",
    "for tick in ticker_list:\n",
    "    change = 100 * (ticker.loc[ticker.index[251], tick] - ticker.loc[ticker.index[0], tick]) / ticker.loc[ticker.index[0], tick]\n",
    "    #print(change)\n",
    "    name = ticker_list[tick]\n",
    "    #print(ticker_list[tick])\n",
    "    price_change[name] = change\n",
    "    #print(price_change)\n",
    "\n",
    "price_change.sort_values(inplace=True)\n",
    "fig, ax = plt.subplots(figsize=(10,10))\n",
    "price_change.plot(kind='bar', ax=ax)\n",
    "plt.show()"
   ]
  },
  {
   "cell_type": "code",
   "execution_count": null,
   "metadata": {
    "collapsed": true
   },
   "outputs": [],
   "source": []
  }
 ],
 "metadata": {
  "kernelspec": {
   "display_name": "Python 3",
   "language": "python",
   "name": "python3"
  },
  "language_info": {
   "codemirror_mode": {
    "name": "ipython",
    "version": 3
   },
   "file_extension": ".py",
   "mimetype": "text/x-python",
   "name": "python",
   "nbconvert_exporter": "python",
   "pygments_lexer": "ipython3",
   "version": "3.5.2"
  }
 },
 "nbformat": 4,
 "nbformat_minor": 0
}
