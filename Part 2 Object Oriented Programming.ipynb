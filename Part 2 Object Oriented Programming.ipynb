{
 "cells": [
  {
   "cell_type": "code",
   "execution_count": 15,
   "metadata": {
    "collapsed": false
   },
   "outputs": [
    {
     "name": "stdout",
     "output_type": "stream",
     "text": [
      "0.6\n"
     ]
    }
   ],
   "source": [
    "#Exercise 1\n",
    "from random import uniform\n",
    "samples = [uniform(0,1) for i in range(10)]  #range can be adjusted\n",
    "class ECDF: #f is an input of uniform random numbers ranging from 0 to 1\n",
    "    def __init__(self,observations):\n",
    "        self.observations = observations\n",
    "    def __call__(self, x):\n",
    "        counter = 0\n",
    "        for i in self.observations:\n",
    "            if i <= x:\n",
    "                counter += 1\n",
    "        return counter/len(self.observations)\n",
    "    \n",
    "F = ECDF(samples)\n",
    "print(F(0.5))"
   ]
  },
  {
   "cell_type": "code",
   "execution_count": 24,
   "metadata": {
    "collapsed": false
   },
   "outputs": [
    {
     "name": "stdout",
     "output_type": "stream",
     "text": [
      "129.0\n",
      "[2, 6, 12, 20]\n"
     ]
    }
   ],
   "source": [
    "#Exercise 2\n",
    "import numpy as np\n",
    "\n",
    "coeff = [1,2,3,4,5]\n",
    "\n",
    "class Polynomial:\n",
    "    def __init__(self,coefficients):\n",
    "        self.coefficients = coefficients\n",
    "        \n",
    "    def __call__(self,number): #return value of polynomial at a value number\n",
    "        self.number = number\n",
    "        coeffarray = np.array(self.coefficients) #array of coefficient values\n",
    "        \n",
    "        numberarray = np.empty(len(self.coefficients))\n",
    "        numberarray[0] = 1\n",
    "        numberarray[1:] = self.number\n",
    "        numberarrayprod = np.cumprod(numberarray)\n",
    "        return coeffarray @ numberarrayprod\n",
    "    \n",
    "    def differentiate(self): #calculate new coefficients for the polynomial\n",
    "        new_coefficients = []\n",
    "        for j, a in enumerate(self.coefficients):\n",
    "            new_coefficients.append(j*a)\n",
    "        del new_coefficients[0]\n",
    "        self.coefficients = new_coefficients\n",
    "        return new_coefficients\n",
    "\n",
    "D = Polynomial(coeff)\n",
    "print(D(2))\n",
    "print(D.differentiate())"
   ]
  },
  {
   "cell_type": "code",
   "execution_count": null,
   "metadata": {
    "collapsed": true
   },
   "outputs": [],
   "source": []
  }
 ],
 "metadata": {
  "kernelspec": {
   "display_name": "Python 3",
   "language": "python",
   "name": "python3"
  },
  "language_info": {
   "codemirror_mode": {
    "name": "ipython",
    "version": 3
   },
   "file_extension": ".py",
   "mimetype": "text/x-python",
   "name": "python",
   "nbconvert_exporter": "python",
   "pygments_lexer": "ipython3",
   "version": "3.5.2"
  }
 },
 "nbformat": 4,
 "nbformat_minor": 0
}
