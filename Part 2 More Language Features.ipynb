{
 "cells": [
  {
   "cell_type": "code",
   "execution_count": 13,
   "metadata": {
    "collapsed": false
   },
   "outputs": [
    {
     "name": "stdout",
     "output_type": "stream",
     "text": [
      "1 1 1\n",
      "1 2 2\n",
      "2 3 3\n"
     ]
    },
    {
     "data": {
      "text/plain": [
       "3"
      ]
     },
     "execution_count": 13,
     "metadata": {},
     "output_type": "execute_result"
    }
   ],
   "source": [
    "#Exercise 1\n",
    "def f(t):\n",
    "    #Special cases for first 2 fibonacci numbers\n",
    "    if t == 1: return 0\n",
    "    if t == 2: return 1\n",
    "    \n",
    "    a = 0\n",
    "    b = 1\n",
    "    \n",
    "    i = 0 #counter variable\n",
    "    while i + 2 < t:\n",
    "        c = a + b\n",
    "        a = b\n",
    "        b = c\n",
    "        i += 1\n",
    "    return c\n",
    "    \n",
    "f(5)\n",
    "        "
   ]
  },
  {
   "cell_type": "code",
   "execution_count": 15,
   "metadata": {
    "collapsed": false
   },
   "outputs": [
    {
     "name": "stdout",
     "output_type": "stream",
     "text": [
      "Date\n",
      "2009-05-21\n",
      "2009-05-20\n",
      "2009-05-19\n",
      "2009-05-18\n",
      "2009-05-15\n",
      "2009-05-14\n",
      "2009-05-13\n",
      "2009-05-12\n",
      "2009-05-11\n"
     ]
    }
   ],
   "source": [
    "#Exercise 2\n",
    "import csv\n",
    "def column_iterator(target_file, column_number):\n",
    "        \n",
    "    \"\"\"A generator function for CSV files.\n",
    "    When called with a file name target_file (string) and column number\n",
    "    column_number (integer), the generator function returns a generator\n",
    "    that steps through the elements of column column_number in file\n",
    "    target_file.\n",
    "    \n",
    "    There are 7 columns: 1 is date, 2 is open, 3 is high\n",
    "                        4 is low, 5 is close 6 is volume\n",
    "                        7 is adjusted close\n",
    "                        \n",
    "    \"\"\"\n",
    "    #Solution using csv module\n",
    "    #file = open(target_file, 'r')\n",
    "    #reader = csv.reader(file, delimiter=',')\n",
    "    reader = csv.reader(open(target_file, 'r'), delimiter=',')\n",
    "    for row in reader:\n",
    "        #print(row[column_number-1])\n",
    "        yield row[column_number-1]\n",
    "    # put your code here\n",
    "\n",
    "dates = column_iterator('test_table.csv', 1)\n",
    "\n",
    "#Testing solution\n",
    "i = 0\n",
    "for date in dates:\n",
    "    print(date)\n",
    "    i+=1\n",
    "    if i == 10:\n",
    "        break"
   ]
  },
  {
   "cell_type": "code",
   "execution_count": 13,
   "metadata": {
    "collapsed": false
   },
   "outputs": [
    {
     "name": "stdout",
     "output_type": "stream",
     "text": [
      "Date\n",
      "2009-05-21\n",
      "2009-05-20\n",
      "2009-05-19\n",
      "2009-05-18\n",
      "2009-05-15\n",
      "2009-05-14\n",
      "2009-05-13\n",
      "2009-05-12\n",
      "2009-05-11\n"
     ]
    }
   ],
   "source": [
    "#Exercise 2, without csv module\n",
    "def column_iterator(target_file, column_number):\n",
    "        \n",
    "    \"\"\"A generator function for CSV files.\n",
    "    When called with a file name target_file (string) and column number\n",
    "    column_number (integer), the generator function returns a generator\n",
    "    that steps through the elements of column column_number in file\n",
    "    target_file.\n",
    "    \n",
    "    There are 7 columns: 1 is date, 2 is open, 3 is high\n",
    "                        4 is low, 5 is close 6 is volume\n",
    "                        7 is adjusted close\n",
    "                        \n",
    "    \"\"\"\n",
    "    \n",
    "    file = open(target_file, 'r')\n",
    "    for line in file:\n",
    "        yield line.split(',')[column_number - 1]\n",
    "    f.close()\n",
    "    \n",
    "dates = column_iterator('test_table.csv', 1)\n",
    "\n",
    "#Testing solution\n",
    "i = 0\n",
    "for date in dates:\n",
    "    print(date)\n",
    "    i+=1\n",
    "    if i == 10:\n",
    "        break\n",
    "    "
   ]
  },
  {
   "cell_type": "code",
   "execution_count": 23,
   "metadata": {
    "collapsed": false
   },
   "outputs": [
    {
     "name": "stdout",
     "output_type": "stream",
     "text": [
      "39.0\n"
     ]
    }
   ],
   "source": [
    "#Exercise 3\n",
    "n = open('Numbers.txt', 'r')\n",
    "def filenumbersummer(file):\n",
    "    total = 0\n",
    "    for line in file:\n",
    "        try: \n",
    "            total = total + float(line)\n",
    "        except ValueError:\n",
    "            pass\n",
    "    print(total)\n",
    "        \n",
    "filenumbersummer(n)"
   ]
  },
  {
   "cell_type": "code",
   "execution_count": null,
   "metadata": {
    "collapsed": true
   },
   "outputs": [],
   "source": []
  }
 ],
 "metadata": {
  "kernelspec": {
   "display_name": "Python 3",
   "language": "python",
   "name": "python3"
  },
  "language_info": {
   "codemirror_mode": {
    "name": "ipython",
    "version": 3
   },
   "file_extension": ".py",
   "mimetype": "text/x-python",
   "name": "python",
   "nbconvert_exporter": "python",
   "pygments_lexer": "ipython3",
   "version": "3.5.2"
  }
 },
 "nbformat": 4,
 "nbformat_minor": 0
}
